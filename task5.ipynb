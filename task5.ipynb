{
 "cells": [
  {
   "attachments": {},
   "cell_type": "markdown",
   "metadata": {},
   "source": [
    "5) Заявляется, что партия изготавливается со средним арифметическим 2,5 см. \n",
    "Проверить данную гипотезу, если известно, что размеры изделий подчинены нормальному закону распределения. \n",
    "Объем выборки 10, уровень статистической значимости 5%\n",
    "\n",
    "2.51, 2.35, 2.74, 2.56, 2.40, 2.36, 2.65, 2.7, 2.67, 2.34\n",
    "\n",
    "sigma = 1/(n-1) СУММ(Xi-Xcp)\n",
    "t = (Xcp-m)/ (sigma/sqrt(n))\n"
   ]
  },
  {
   "cell_type": "code",
   "execution_count": 8,
   "metadata": {},
   "outputs": [
    {
     "data": {
      "text/plain": [
       "2.5279999999999996"
      ]
     },
     "execution_count": 8,
     "metadata": {},
     "output_type": "execute_result"
    }
   ],
   "source": [
    "import numpy as np\n",
    "import scipy.stats as stats\n",
    "\n",
    "X = np.array([2.51, 2.35, 2.74, 2.56, 2.40, 2.36, 2.65, 2.7, 2.67, 2.34])\n",
    "Xcp = X.mean()\n",
    "Xcp "
   ]
  },
  {
   "cell_type": "code",
   "execution_count": 6,
   "metadata": {},
   "outputs": [
    {
     "data": {
      "text/plain": [
       "0.1572542173961923"
      ]
     },
     "execution_count": 6,
     "metadata": {},
     "output_type": "execute_result"
    }
   ],
   "source": [
    "sigma = X.std(ddof=1)\n",
    "sigma"
   ]
  },
  {
   "cell_type": "code",
   "execution_count": 7,
   "metadata": {},
   "outputs": [
    {
     "data": {
      "text/plain": [
       "0.563061366180296"
      ]
     },
     "execution_count": 7,
     "metadata": {},
     "output_type": "execute_result"
    }
   ],
   "source": [
    "t = (Xcp-2.5) / sigma * np.sqrt(10)\n",
    "t"
   ]
  },
  {
   "cell_type": "code",
   "execution_count": 9,
   "metadata": {},
   "outputs": [
    {
     "data": {
      "text/plain": [
       "2.2621571627409915"
      ]
     },
     "execution_count": 9,
     "metadata": {},
     "output_type": "execute_result"
    }
   ],
   "source": [
    "t_1 = stats.t.ppf(0.975,9)\n",
    "t_1"
   ]
  },
  {
   "attachments": {},
   "cell_type": "markdown",
   "metadata": {},
   "source": [
    "Так как t < t_1 \n",
    "следует вывод что партия изготавливается со средним арифметическим 2,5 см. "
   ]
  }
 ],
 "metadata": {
  "kernelspec": {
   "display_name": ".folder",
   "language": "python",
   "name": "python3"
  },
  "language_info": {
   "codemirror_mode": {
    "name": "ipython",
    "version": 3
   },
   "file_extension": ".py",
   "mimetype": "text/x-python",
   "name": "python",
   "nbconvert_exporter": "python",
   "pygments_lexer": "ipython3",
   "version": "3.11.2"
  },
  "orig_nbformat": 4,
  "vscode": {
   "interpreter": {
    "hash": "473553e28e5b363d575e92da535f1f161aa2132f3ee15a8dbf1484ed06349749"
   }
  }
 },
 "nbformat": 4,
 "nbformat_minor": 2
}
